{
 "cells": [
  {
   "metadata": {},
   "cell_type": "markdown",
   "source": [
    "# Chest X-ray Classification using CNN\n",
    "\n",
    "This project aims to classify chest X-rays as normal or abnormal using a convolutional neural network (CNN).\n",
    "\n",
    "Dataset: NIH Chest X-ray dataset from Kaggle."
   ],
   "id": "cf4984cfc559a7c5"
  },
  {
   "metadata": {},
   "cell_type": "markdown",
   "source": "## 1. Load and Explore Dataset",
   "id": "9d6f5e6bb9ac4f2"
  },
  {
   "metadata": {
    "collapsed": true,
    "ExecuteTime": {
     "end_time": "2025-03-17T21:48:52.970537Z",
     "start_time": "2025-03-17T21:48:52.966538Z"
    }
   },
   "cell_type": "code",
   "source": [
    "import os\n",
    "import logging\n",
    "import pandas as pd\n",
    "import numpy as np\n",
    "import matplotlib.pyplot as plt\n",
    "import seaborn as sns\n",
    "import cv2\n",
    "import tensorflow as tf\n",
    "from tensorflow import _tf_uses_legacy_keras\n",
    "from tqdm import tqdm\n",
    "from sklearn.model_selection import train_test_split\n",
    "from tensorflow.keras.models import Sequential, load_model\n",
    "from tensorflow.keras.layers import Conv2D, MaxPooling2D, Flatten, Dense, Dropout, Input\n",
    "from tensorflow.keras.optimizers import Adam\n",
    "from keras import models\n",
    "from keras import layers\n",
    "from sklearn.model_selection import train_test_split"
   ],
   "id": "initial_id",
   "outputs": [],
   "execution_count": 31
  },
  {
   "metadata": {
    "ExecuteTime": {
     "end_time": "2025-03-17T21:48:54.909239Z",
     "start_time": "2025-03-17T21:48:54.905723Z"
    }
   },
   "cell_type": "code",
   "source": [
    "# Configure logging\n",
    "logging.basicConfig(\n",
    "    filename='training_log.log',\n",
    "    level=logging.INFO,\n",
    "    format='%(asctime)s:%(levelname)s:%(message)s'\n",
    ")\n",
    "logging.info(\"Logging initialized successfully.\")"
   ],
   "id": "73eee39e29e5316",
   "outputs": [],
   "execution_count": 32
  },
  {
   "metadata": {
    "ExecuteTime": {
     "end_time": "2025-03-17T21:52:14.430748Z",
     "start_time": "2025-03-17T21:52:14.339202Z"
    }
   },
   "cell_type": "code",
   "source": [
    "# Define separate paths for labels and images\n",
    "labels_path = os.path.join(\"data\", \"archive\", \"Data_Entry_2017.csv\")  # Path for CSV file\n",
    "images_path = os.path.join(\"data\", \"images\")  # Path for actual images\n",
    "\n",
    "# List files in the archive folder to verify its contents\n",
    "print(os.listdir(os.path.dirname(labels_path)))\n",
    "\n",
    "# Load the labels CSV file\n",
    "logging.info(f\"Loading labels from: {labels_path}\")\n",
    "df = pd.read_csv(labels_path)\n",
    "logging.info(\"labels loaded successfully\")\n",
    "\n",
    "# Show first few rows of the dataset\n",
    "df.head()\n"
   ],
   "id": "41997b4c4b439bf1",
   "outputs": [
    {
     "name": "stdout",
     "output_type": "stream",
     "text": [
      "['ARXIV_V5_CHESTXRAY.pdf', 'BBox_List_2017.csv', 'Data_Entry_2017.csv', 'FAQ_CHESTXRAY.pdf', 'LOG_CHESTXRAY.pdf', 'README_CHESTXRAY.pdf', 'test_list.txt', 'train_val_list.txt']\n"
     ]
    },
    {
     "data": {
      "text/plain": [
       "        Image Index          Finding Labels  Follow-up #  Patient ID  \\\n",
       "0  00000001_000.png            Cardiomegaly            0           1   \n",
       "1  00000001_001.png  Cardiomegaly|Emphysema            1           1   \n",
       "2  00000001_002.png   Cardiomegaly|Effusion            2           1   \n",
       "3  00000002_000.png              No Finding            0           2   \n",
       "4  00000003_000.png                  Hernia            0           3   \n",
       "\n",
       "   Patient Age Patient Gender View Position  OriginalImage[Width  Height]  \\\n",
       "0           58              M            PA                 2682     2749   \n",
       "1           58              M            PA                 2894     2729   \n",
       "2           58              M            PA                 2500     2048   \n",
       "3           81              M            PA                 2500     2048   \n",
       "4           81              F            PA                 2582     2991   \n",
       "\n",
       "   OriginalImagePixelSpacing[x     y]  Unnamed: 11  \n",
       "0                        0.143  0.143          NaN  \n",
       "1                        0.143  0.143          NaN  \n",
       "2                        0.168  0.168          NaN  \n",
       "3                        0.171  0.171          NaN  \n",
       "4                        0.143  0.143          NaN  "
      ],
      "text/html": [
       "<div>\n",
       "<style scoped>\n",
       "    .dataframe tbody tr th:only-of-type {\n",
       "        vertical-align: middle;\n",
       "    }\n",
       "\n",
       "    .dataframe tbody tr th {\n",
       "        vertical-align: top;\n",
       "    }\n",
       "\n",
       "    .dataframe thead th {\n",
       "        text-align: right;\n",
       "    }\n",
       "</style>\n",
       "<table border=\"1\" class=\"dataframe\">\n",
       "  <thead>\n",
       "    <tr style=\"text-align: right;\">\n",
       "      <th></th>\n",
       "      <th>Image Index</th>\n",
       "      <th>Finding Labels</th>\n",
       "      <th>Follow-up #</th>\n",
       "      <th>Patient ID</th>\n",
       "      <th>Patient Age</th>\n",
       "      <th>Patient Gender</th>\n",
       "      <th>View Position</th>\n",
       "      <th>OriginalImage[Width</th>\n",
       "      <th>Height]</th>\n",
       "      <th>OriginalImagePixelSpacing[x</th>\n",
       "      <th>y]</th>\n",
       "      <th>Unnamed: 11</th>\n",
       "    </tr>\n",
       "  </thead>\n",
       "  <tbody>\n",
       "    <tr>\n",
       "      <th>0</th>\n",
       "      <td>00000001_000.png</td>\n",
       "      <td>Cardiomegaly</td>\n",
       "      <td>0</td>\n",
       "      <td>1</td>\n",
       "      <td>58</td>\n",
       "      <td>M</td>\n",
       "      <td>PA</td>\n",
       "      <td>2682</td>\n",
       "      <td>2749</td>\n",
       "      <td>0.143</td>\n",
       "      <td>0.143</td>\n",
       "      <td>NaN</td>\n",
       "    </tr>\n",
       "    <tr>\n",
       "      <th>1</th>\n",
       "      <td>00000001_001.png</td>\n",
       "      <td>Cardiomegaly|Emphysema</td>\n",
       "      <td>1</td>\n",
       "      <td>1</td>\n",
       "      <td>58</td>\n",
       "      <td>M</td>\n",
       "      <td>PA</td>\n",
       "      <td>2894</td>\n",
       "      <td>2729</td>\n",
       "      <td>0.143</td>\n",
       "      <td>0.143</td>\n",
       "      <td>NaN</td>\n",
       "    </tr>\n",
       "    <tr>\n",
       "      <th>2</th>\n",
       "      <td>00000001_002.png</td>\n",
       "      <td>Cardiomegaly|Effusion</td>\n",
       "      <td>2</td>\n",
       "      <td>1</td>\n",
       "      <td>58</td>\n",
       "      <td>M</td>\n",
       "      <td>PA</td>\n",
       "      <td>2500</td>\n",
       "      <td>2048</td>\n",
       "      <td>0.168</td>\n",
       "      <td>0.168</td>\n",
       "      <td>NaN</td>\n",
       "    </tr>\n",
       "    <tr>\n",
       "      <th>3</th>\n",
       "      <td>00000002_000.png</td>\n",
       "      <td>No Finding</td>\n",
       "      <td>0</td>\n",
       "      <td>2</td>\n",
       "      <td>81</td>\n",
       "      <td>M</td>\n",
       "      <td>PA</td>\n",
       "      <td>2500</td>\n",
       "      <td>2048</td>\n",
       "      <td>0.171</td>\n",
       "      <td>0.171</td>\n",
       "      <td>NaN</td>\n",
       "    </tr>\n",
       "    <tr>\n",
       "      <th>4</th>\n",
       "      <td>00000003_000.png</td>\n",
       "      <td>Hernia</td>\n",
       "      <td>0</td>\n",
       "      <td>3</td>\n",
       "      <td>81</td>\n",
       "      <td>F</td>\n",
       "      <td>PA</td>\n",
       "      <td>2582</td>\n",
       "      <td>2991</td>\n",
       "      <td>0.143</td>\n",
       "      <td>0.143</td>\n",
       "      <td>NaN</td>\n",
       "    </tr>\n",
       "  </tbody>\n",
       "</table>\n",
       "</div>"
      ]
     },
     "execution_count": 33,
     "metadata": {},
     "output_type": "execute_result"
    }
   ],
   "execution_count": 33
  },
  {
   "metadata": {
    "ExecuteTime": {
     "end_time": "2025-03-17T21:53:10.125636Z",
     "start_time": "2025-03-17T21:53:09.477303Z"
    }
   },
   "cell_type": "code",
   "source": [
    "# Split multi-label strings into a list of individual conditions\n",
    "all_conditions = df[\"Finding Labels\"].str.split(\"|\", expand=True).stack()\n",
    "\n",
    "# Count occurrences of each condition\n",
    "condition_counts = all_conditions.value_counts()\n",
    "\n",
    "# Plot the cleaned-up distribution\n",
    "plt.figure(figsize=(10, 5))\n",
    "condition_counts.plot(kind=\"bar\")\n",
    "plt.title(\"Distribution of X-ray Diagnoses\")\n",
    "plt.xlabel(\"Condition\")\n",
    "plt.ylabel(\"Count\")\n",
    "plt.xticks(rotation=45)  # Rotate labels for readability\n",
    "plt.show()\n",
    "logging.info(\"Distribution of X-ray Diagnoses made successfully\")"
   ],
   "id": "fb9c7aead44abc7c",
   "outputs": [
    {
     "data": {
      "text/plain": [
       "<Figure size 1000x500 with 1 Axes>"
      ],
      "image/png": "[encoded data removed]"
     },
     "metadata": {},
     "output_type": "display_data"
    }
   ],
   "execution_count": 34
  },
  {
   "metadata": {},
   "cell_type": "markdown",
   "source": [
    "## 2. Data Preprocessing\n",
    "Before feeding images into the CNN, we need to do the following:\n",
    "- Convert grayscale X-ray images to a standard format\n",
    "- Resize images to a fixed size (224x224)\n",
    "- Normalize pixel values (0 to 1)\n",
    "- Split dataset into Training and Testing sets"
   ],
   "id": "332ba54f17bd3c7f"
  },
  {
   "metadata": {
    "ExecuteTime": {
     "end_time": "2025-03-17T21:26:43.421894Z",
     "start_time": "2025-03-17T21:26:43.226912Z"
    }
   },
   "cell_type": "code",
   "source": [
    "# Create a binary label: 0 = Normal, 1 = Abnormal\n",
    "df[\"label\"] = df[\"Finding Labels\"].apply(lambda x: 0 if \"No Finding\" in x else 1)\n",
    "\n",
    "# Split the dataset\n",
    "train_df, test_df = train_test_split(df, test_size=0.2, stratify=df[\"label\"], random_state=42)\n",
    "\n",
    "print(f\"Training samples:  {len(train_df)}, Testing samples: {len(test_df)}\")\n",
    "logging.info(f\"Training samples: {len(train_df)}, Testing samples: {len(test_df)}\")"
   ],
   "id": "bf18b4761cfe935d",
   "outputs": [
    {
     "name": "stdout",
     "output_type": "stream",
     "text": [
      "Training samples:  89696, Testing samples: 22424\n"
     ]
    }
   ],
   "execution_count": 13
  },
  {
   "metadata": {
    "ExecuteTime": {
     "end_time": "2025-03-17T21:26:45.091162Z",
     "start_time": "2025-03-17T21:26:45.085165Z"
    }
   },
   "cell_type": "code",
   "source": [
    "print(\"Training Set Distribution:\")\n",
    "print(train_df[\"label\"].value_counts())\n",
    "\n",
    "print(\"\\nTesting Set Distribution:\")\n",
    "print(test_df[\"label\"].value_counts())\n"
   ],
   "id": "2e11e956af66f271",
   "outputs": [
    {
     "name": "stdout",
     "output_type": "stream",
     "text": [
      "Training Set Distribution:\n",
      "label\n",
      "0    48289\n",
      "1    41407\n",
      "Name: count, dtype: int64\n",
      "\n",
      "Testing Set Distribution:\n",
      "label\n",
      "0    12072\n",
      "1    10352\n",
      "Name: count, dtype: int64\n"
     ]
    }
   ],
   "execution_count": 14
  },
  {
   "metadata": {
    "ExecuteTime": {
     "end_time": "2025-03-17T21:54:42.941648Z",
     "start_time": "2025-03-17T21:54:42.937840Z"
    }
   },
   "cell_type": "code",
   "source": [
    "IMG_SIZE = 224\n",
    "\n",
    "def load_and_preprocess_image(img_path):\n",
    "    \"\"\"Load an image, convert to grayscale, resize, and normalize it.\"\"\"\n",
    "    if not os.path.exists(img_path):\n",
    "        logging.warning(f\"Warning: Image not found at {img_path}\")\n",
    "        return np.zeros((IMG_SIZE, IMG_SIZE))  # Return a blank image to avoid crashing\n",
    "\n",
    "    image = cv2.imread(img_path, cv2.IMREAD_GRAYSCALE)  # Load image as grayscale\n",
    "    if image is None:\n",
    "        logging.warning(f\"Warning: OpenCV failed to load image {img_path}\")\n",
    "        return np.zeros((IMG_SIZE, IMG_SIZE))  # Return a blank image\n",
    "\n",
    "    image = cv2.resize(image, (IMG_SIZE, IMG_SIZE))  # Resize to (224,224)\n",
    "    image = image / 255.0  # Normalize pixel values to 0-1\n",
    "    return image\n"
   ],
   "id": "54c7bdf97086c2cc",
   "outputs": [],
   "execution_count": 37
  },
  {
   "metadata": {
    "ExecuteTime": {
     "end_time": "2025-03-17T21:26:53.161416Z",
     "start_time": "2025-03-17T21:26:53.156297Z"
    }
   },
   "cell_type": "code",
   "source": [
    "def save_batches(df, images_path, batch_size=1000, save_dir='batches'):\n",
    "    \"\"\"Preprocess and save data in batches to disk.\"\"\"\n",
    "    os.makedirs(save_dir, exist_ok=True)\n",
    "    image_paths = df[\"Image Index\"].apply(lambda x: os.path.join(images_path, x)).values\n",
    "    labels = df[\"label\"].values\n",
    "\n",
    "    batch_images, batch_labels = [], []\n",
    "    batch_num = 0\n",
    "\n",
    "    for i, (img_path, label) in enumerate(zip(image_paths, labels)):\n",
    "        image = load_and_preprocess_image(img_path)\n",
    "        if image is None:\n",
    "            continue\n",
    "\n",
    "        batch_images.append(image)\n",
    "        batch_labels.append(label)\n",
    "\n",
    "        # Save batch\n",
    "        if (i + 1) % batch_size == 0 or (i + 1) == len(df):\n",
    "            X = np.array(batch_images).reshape(-1, IMG_SIZE, IMG_SIZE, 1)\n",
    "            y = np.array(batch_labels)\n",
    "            np.save(os.path.join(save_dir, f'X_batch_{batch_num}.npy'), X)\n",
    "            np.save(os.path.join(save_dir, f'y_batch_{batch_num}.npy'), y)\n",
    "            logging.info(f\"Saved batch {batch_num}\")\n",
    "            batch_images, batch_labels = [], []\n",
    "            batch_num += 1"
   ],
   "id": "b3847cd8bb14f968",
   "outputs": [],
   "execution_count": 17
  },
  {
   "metadata": {},
   "cell_type": "code",
   "source": "save_batches(train_df, images_path, batch_size=1000, save_dir='batches')",
   "id": "b960f2b9c93a515e",
   "outputs": [],
   "execution_count": null
  },
  {
   "metadata": {
    "ExecuteTime": {
     "end_time": "2025-03-17T21:27:18.694577Z",
     "start_time": "2025-03-17T21:27:18.690876Z"
    }
   },
   "cell_type": "code",
   "source": [
    "def load_batch(batch_num, save_dir='batches'):\n",
    "    \"\"\"Load preprocessed batch from disk.\"\"\"\n",
    "    X = np.load(os.path.join(save_dir, f'X_batch_{batch_num}.npy'), mmap_mode='r')\n",
    "    y = np.load(os.path.join(save_dir, f'y_batch_{batch_num}.npy'))\n",
    "    return X, y"
   ],
   "id": "98ece1d7e5a64208",
   "outputs": [],
   "execution_count": 19
  },
  {
   "metadata": {
    "ExecuteTime": {
     "end_time": "2025-03-17T21:35:37.258169Z",
     "start_time": "2025-03-17T21:35:37.254686Z"
    }
   },
   "cell_type": "code",
   "source": [
    "def create_cnn_model(input_shape):\n",
    "    \"\"\"Creates and returns a CNN model.\"\"\"\n",
    "    model = Sequential()\n",
    "    model.add(Input(shape=input_shape))  # <-- Preferred way to set input shape\n",
    "    model.add(Conv2D(32, (3, 3), activation='relu'))\n",
    "    model.add(MaxPooling2D(pool_size=(2, 2)))\n",
    "    model.add(Conv2D(64, (3, 3), activation='relu'))\n",
    "    model.add(MaxPooling2D(pool_size=(2, 2)))\n",
    "    model.add(Flatten())\n",
    "    model.add(Dense(128, activation='relu'))\n",
    "    model.add(Dropout(0.5))\n",
    "    model.add(Dense(1, activation='sigmoid'))  # Binary classification\n",
    "\n",
    "    model.compile(optimizer='adam',\n",
    "                  loss='binary_crossentropy',\n",
    "                  metrics=['accuracy'])\n",
    "    return model\n"
   ],
   "id": "8038490d750c0597",
   "outputs": [],
   "execution_count": 27
  },
  {
   "metadata": {},
   "cell_type": "code",
   "source": [
    "# Path to established model\n",
    "model_path = os.path.join(\"saved_models\", \"cnn_chest_xray_model.keras\")\n",
    "\n",
    "# Training on established model or creating new model if none exists\n",
    "if os.path.exists(model_path):\n",
    "    logging.info(\"Loading existing model...\")\n",
    "    model = load_model(model_path)\n",
    "else:\n",
    "    logging.info(\"No existing model found, creating new model...\")\n",
    "    model = create_cnn_model((224, 224, 1))\n",
    "\n",
    "# Count number of saved batches\n",
    "num_batches = len([f for f in os.listdir('batches') if f.startswith('X_batch_')])\n",
    "\n",
    "# Set number of epochs\n",
    "epochs = 5\n",
    "\n",
    "# Training loop with progress bar\n",
    "for epoch in range(epochs):\n",
    "    logging.info(f\"\\nEpoch {epoch + 1}/{epochs}\")\n",
    "    progress_bar = tqdm(range(num_batches), desc=f\"Epoch {epoch + 1}\", miniters=5)\n",
    "\n",
    "    for batch_num in progress_bar:\n",
    "        X_batch, y_batch = load_batch(batch_num)  # Your batch loading function\n",
    "        history = model.fit(X_batch, y_batch, epochs=1, verbose=0)  # Train silently\n",
    "        # Update progress bar with current loss and accuracy\n",
    "        progress_bar.set_postfix({\n",
    "            \"loss\": f\"{history.history['loss'][0]:.4f}\",\n",
    "            \"accuracy\": f\"{history.history['accuracy'][0]:.4f}\"\n",
    "        })\n",
    "    logging.info(f\"Epoch {epoch + 1} completed: Loss = {history.history['loss'][0]}, Accuracy = {history.history['accuracy'][0]}\")\n",
    "\n",
    "logging.info(\"\\nTraining complete!\")"
   ],
   "id": "8206adc27eac834b",
   "outputs": [],
   "execution_count": null
  },
  {
   "metadata": {
    "ExecuteTime": {
     "end_time": "2025-03-17T01:31:40.151215Z",
     "start_time": "2025-03-17T01:31:36.622839Z"
    }
   },
   "cell_type": "code",
   "source": [
    "# Save the trained model\n",
    "model.save(model_path, overwrite=True)\n",
    "logging.info(\"Model saved successfully!\")"
   ],
   "id": "9b809159131980f5",
   "outputs": [
    {
     "name": "stdout",
     "output_type": "stream",
     "text": [
      "Model saved successfully!\n"
     ]
    }
   ],
   "execution_count": 11
  },
  {
   "metadata": {},
   "cell_type": "code",
   "source": [
    "# Load the saved model\n",
    "model = load_model(model_path)\n",
    "logging.info(\"Model loaded successfully!\")"
   ],
   "id": "9d7b5fad3c75a47b",
   "outputs": [],
   "execution_count": null
  }
 ],
 "metadata": {
  "kernelspec": {
   "display_name": "Python 3",
   "language": "python",
   "name": "python3"
  },
  "language_info": {
   "codemirror_mode": {
    "name": "ipython",
    "version": 2
   },
   "file_extension": ".py",
   "mimetype": "text/x-python",
   "name": "python",
   "nbconvert_exporter": "python",
   "pygments_lexer": "ipython2",
   "version": "2.7.6"
  }
 },
 "nbformat": 4,
 "nbformat_minor": 5
}

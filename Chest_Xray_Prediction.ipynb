{
 "cells": [
  {
   "metadata": {},
   "cell_type": "markdown",
   "source": [
    "# Chest X-ray Prediction\n",
    "This is a notebook containing just the function necessary to run the model for predicting images.\n",
    "A sample chest X-ray has been provided.\n",
    "Simply run through the entire file in order to see results!"
   ],
   "id": "1f1c8577b0ffe87d"
  },
  {
   "cell_type": "code",
   "execution_count": null,
   "id": "initial_id",
   "metadata": {
    "collapsed": true
   },
   "outputs": [],
   "source": [
    "# Import necessary libraries\n",
    "import os\n",
    "import tensorflow as tf\n",
    "from tensorflow.keras.models import load_model\n",
    "from tensorflow.keras.preprocessing import image\n",
    "import matplotlib.pyplot as plt\n",
    "import numpy as np"
   ]
  },
  {
   "metadata": {},
   "cell_type": "code",
   "outputs": [],
   "execution_count": null,
   "source": [
    "# Load the saved model\n",
    "model_path = os.path.join(\"saved_models\", \"cnn_chest_xray_model.keras\")\n",
    "model = load_model(model_path)"
   ],
   "id": "1c54e01ef43cc049"
  },
  {
   "metadata": {},
   "cell_type": "code",
   "outputs": [],
   "execution_count": null,
   "source": [
    "def predict_new_image(image_path):\n",
    "    # Load and preprocess image\n",
    "    img = image.load_img(image_path, target_size=(128, 128), color_mode='grayscale')\n",
    "    img_array = image.img_to_array(img)\n",
    "    img_array_norm = img_array / 255.0\n",
    "    img_array_norm = img_array_norm.reshape(1, 128, 128, 1)\n",
    "\n",
    "    # Make prediction\n",
    "    prediction = model.predict(img_array_norm)\n",
    "    probability = float(prediction[0][0])\n",
    "    result = 'Abnormal' if probability > 0.5 else 'Normal'\n",
    "\n",
    "    # Display image\n",
    "    plt.imshow(img.squeeze(), cmap='gray_r')\n",
    "    plt.axis('off')\n",
    "    plt.title(f\"Prediction: {result}\\nProbability: {probability:.4f}\")\n",
    "    plt.show()\n",
    "\n",
    "    print(f\"Prediction: {result} (Probability: {probability:.4f})\")\n",
    "    return result, probability"
   ],
   "id": "a3400f900b822261"
  },
  {
   "metadata": {},
   "cell_type": "code",
   "outputs": [],
   "execution_count": null,
   "source": [
    "# Predict on provided sample image\n",
    "predict_new_image(\"/content/sample_image.png\")"
   ],
   "id": "f37faf8629a831f2"
  }
 ],
 "metadata": {
  "kernelspec": {
   "display_name": "Python 3",
   "language": "python",
   "name": "python3"
  },
  "language_info": {
   "codemirror_mode": {
    "name": "ipython",
    "version": 2
   },
   "file_extension": ".py",
   "mimetype": "text/x-python",
   "name": "python",
   "nbconvert_exporter": "python",
   "pygments_lexer": "ipython2",
   "version": "2.7.6"
  }
 },
 "nbformat": 4,
 "nbformat_minor": 5
}
